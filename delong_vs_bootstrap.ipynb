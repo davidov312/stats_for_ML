{
 "cells": [
  {
   "cell_type": "markdown",
   "id": "62592a56",
   "metadata": {},
   "source": [
    "# Calculate confidence intervals and compare classifier performance using delong test and bootstrapping"
   ]
  },
  {
   "cell_type": "markdown",
   "id": "65f82467",
   "metadata": {},
   "source": [
    "The code for bootstrapping is based on \\\n",
    "https://machinelearningmastery.com/calculate-bootstrap-confidence-intervals-machine-learning-results-python/\n",
    "https://stackoverflow.com/questions/19124239/scikit-learn-roc-curve-with-confidence-intervals\n",
    "\\\n",
    "Here I assume that the distribution is normal and the samples are independent.\n",
    "In the original vairant, they calculate empirical CI (non parametric) without assuming a normal distribution\n",
    "\n",
    "The code for delong test is taken as is from:\\\n",
    "https://github.com/yandexdataschool/roc_comparison"
   ]
  },
  {
   "cell_type": "code",
   "execution_count": 2,
   "id": "1708b426",
   "metadata": {},
   "outputs": [],
   "source": [
    "import numpy as np\n",
    "from scipy import stats\n",
    "from roc_comparison import compare_auc_delong_xu\n",
    "import pandas as pd\n",
    "from sklearn.metrics import roc_auc_score\n",
    "import matplotlib.pyplot as plt"
   ]
  },
  {
   "cell_type": "markdown",
   "id": "37ab8520",
   "metadata": {},
   "source": [
    "# Confidence intervals"
   ]
  },
  {
   "cell_type": "markdown",
   "id": "3b4df450",
   "metadata": {},
   "source": [
    "## Bootstrapping"
   ]
  },
  {
   "cell_type": "code",
   "execution_count": 14,
   "id": "7a14d072",
   "metadata": {},
   "outputs": [
    {
     "name": "stdout",
     "output_type": "stream",
     "text": [
      "AUC: 0.91222\n",
      "95% AUC CI: [0.86891441 0.95596595]\n"
     ]
    }
   ],
   "source": [
    "def get_ci_bootstrap(y_pred, y_true, n_bootstraps = 1000, rng_seed = 42, statistic=roc_auc_score):\n",
    "    bstrap_scores = []\n",
    "    rng = np.random.RandomState(rng_seed)\n",
    "    for i in range(n_bootstraps):\n",
    "        # bootstrap by sampling with replacement on the prediction indices\n",
    "        indices = rng.randint(0, len(y_pred), len(y_pred))\n",
    "        if len(np.unique(y_true[indices])) < 2:          \n",
    "            # We need at least one positive and one negative sample for ROC AUC \n",
    "            continue\n",
    "\n",
    "        bstrap_scores.append(statistic(y_true[indices], y_pred[indices]))\n",
    "    bstrap_scores = np.array(bstrap_scores)\n",
    "\n",
    "    alpha = 0.95\n",
    "    lower_upper_q = np.abs(np.array([0, 1]) - (1 - alpha) / 2)\n",
    "\n",
    "    ci = stats.norm.ppf(lower_upper_q, loc=bstrap_scores.mean(), scale=bstrap_scores.std()) \n",
    "    ci[ci > 1] = 1\n",
    "\n",
    "    return ci\n",
    "\n",
    "        \n",
    "df = pd.read_csv('data.csv')\n",
    "auc = roc_auc_score(df.y_true, df.y_pred)\n",
    "ci = get_ci_bootstrap(df.y_pred, df.y_true, statistic=roc_auc_score)\n",
    "print('AUC:', \"{:.5f}\".format(auc))\n",
    "print('95% AUC CI:', ci)"
   ]
  },
  {
   "cell_type": "markdown",
   "id": "507656d9",
   "metadata": {},
   "source": [
    "Plot"
   ]
  },
  {
   "cell_type": "code",
   "execution_count": 6,
   "id": "e53a6d86",
   "metadata": {},
   "outputs": [
    {
     "data": {
      "image/png": "[encoded data removed]",
      "text/plain": [
       "<Figure size 216x288 with 1 Axes>"
      ]
     },
     "metadata": {
      "needs_background": "light"
     },
     "output_type": "display_data"
    }
   ],
   "source": [
    "def bar_plot(location:int, val:float, name:str, color):\n",
    "    plt.bar(location, val, color = color, width = .8)\n",
    "    plt.text(location,val/2, np.round(100*val,1), ha='center', va='bottom',fontsize=10, color='white')\n",
    "    plt.text(location,-.02, name, ha='center', va='top',fontsize=10)\n",
    "\n",
    "        \n",
    "def err_bar(x, ymin, ymax):\n",
    "    cap_width = 0.2\n",
    "    w = 2\n",
    "    plt.vlines(x, ymin, ymax, colors='k', linestyles='solid', linewidths=w)\n",
    "    plt.hlines(ymin, x-cap_width, x+cap_width, colors='k', linestyles='solid', linewidths=w)\n",
    "    plt.hlines(ymax, x-cap_width, x+cap_width, colors='k', linestyles='solid', linewidths=w)\n",
    "\n",
    "    \n",
    "plt.figure(0, figsize=[3,4]);plt.grid();plt.ylim([0,1]); plt.xlim([-1, 1])  \n",
    "bar_plot(location=0, val = auc, name = \"AUC\", color=[0/255,50/255,80/255])    \n",
    "err_bar(0, ci[0], ci[1])\n",
    "_ = plt.xticks(np.array([-1,1]), [\"\", \"\"])\n",
    "_ = plt.yticks(np.arange(0,1.2,.2))"
   ]
  },
  {
   "cell_type": "markdown",
   "id": "7a175156",
   "metadata": {},
   "source": [
    "## Delong test"
   ]
  },
  {
   "cell_type": "code",
   "execution_count": 10,
   "id": "b21a294f",
   "metadata": {},
   "outputs": [
    {
     "name": "stdout",
     "output_type": "stream",
     "text": [
      "AUC: 0.91222\n",
      "95% AUC CI: [0.86872438 0.9557134 ]\n"
     ]
    }
   ],
   "source": [
    "auc, auc_cov = compare_auc_delong_xu.delong_roc_variance(df.y_true, df.y_pred)\n",
    "auc_std = np.sqrt(auc_cov)\n",
    "\n",
    "alpha = .95\n",
    "lower_upper_q = np.abs(np.array([0, 1]) - (1 - alpha) / 2)\n",
    "\n",
    "# ppf: inverse of cdf \n",
    "# input percentile- how much area of the distribution\n",
    "# output - value of the variable with the given area from this point to the right\n",
    "#loc, scale = mean, std of normal distribution\n",
    "ci = stats.norm.ppf(lower_upper_q, loc=auc, scale=auc_std) \n",
    "ci[ci > 1] = 1\n",
    "\n",
    "print('AUC:', \"{:.5f}\".format(float(auc)))\n",
    "print('95% AUC CI:', ci)"
   ]
  },
  {
   "cell_type": "code",
   "execution_count": 11,
   "id": "8cecc110",
   "metadata": {},
   "outputs": [
    {
     "data": {
      "image/png": "[encoded data removed]",
      "text/plain": [
       "<Figure size 216x288 with 1 Axes>"
      ]
     },
     "metadata": {
      "needs_background": "light"
     },
     "output_type": "display_data"
    }
   ],
   "source": [
    "plt.figure(0, figsize=[3,4]);plt.grid();plt.ylim([0,1]); plt.xlim([-1, 1])  \n",
    "bar_plot(location=0, val = auc, name = \"AUC\", color=[0/255,50/255,80/255])    \n",
    "err_bar(0, ci[0], ci[1])\n",
    "_ = plt.xticks(np.array([-1,1]), [\"\", \"\"])\n",
    "_ = plt.yticks(np.arange(0,1.2,.2))"
   ]
  },
  {
   "cell_type": "markdown",
   "id": "824eb779",
   "metadata": {},
   "source": [
    "Plot"
   ]
  },
  {
   "cell_type": "markdown",
   "id": "8c3d8d56",
   "metadata": {},
   "source": [
    "# p value to compare AUCs of two classifiers"
   ]
  },
  {
   "cell_type": "markdown",
   "id": "061eba44",
   "metadata": {},
   "source": [
    "## Bootstraping"
   ]
  },
  {
   "cell_type": "markdown",
   "id": "09bb69e5",
   "metadata": {},
   "source": [
    "The AUC of two classifiers statistically differ from each other if the p value is smaller than a cutoff (typically 0.05) "
   ]
  },
  {
   "cell_type": "code",
   "execution_count": 12,
   "id": "9d0c0965",
   "metadata": {},
   "outputs": [
    {
     "name": "stdout",
     "output_type": "stream",
     "text": [
      "p Value: 0.00300\n"
     ]
    }
   ],
   "source": [
    "def get_pvalue_bootstrap(y_pred, y_pred2, y_true, n_bootstraps = 1000, rng_seed = 42, statistic=roc_auc_score):\n",
    "    bstrap_scores1 = []\n",
    "    bstrap_scores2 = []\n",
    "    rng = np.random.RandomState(rng_seed)\n",
    "    for i in range(n_bootstraps):\n",
    "        # bootstrap by sampling with replacement on the prediction indices\n",
    "        indices = rng.randint(0, len(y_pred), len(y_pred))\n",
    "        if len(np.unique(y_true[indices])) < 2:          \n",
    "            # We need at least one positive and one negative sample for ROC AUC \n",
    "            continue\n",
    "        bstrap_scores1.append(statistic(y_true[indices], y_pred[indices]))        \n",
    "        bstrap_scores2.append(statistic(y_true[indices], y_pred2[indices]))\n",
    "\n",
    "    bstrap_scores1 = np.array(bstrap_scores1)\n",
    "    bstrap_scores2 = np.array(bstrap_scores2)\n",
    "    \n",
    "    cov = np.cov(bstrap_scores1, bstrap_scores2)\n",
    "    z = (bstrap_scores1.mean() - bstrap_scores2.mean()) / \\\n",
    "        np.sqrt(cov[0,0] + cov[1,1] - 2*cov[1,0])\n",
    "    def two_side_pvalue(z): #P(x<-Z or x>Z)\n",
    "        return 2*(1 - stats.norm.cdf(abs(z)))\n",
    "    \n",
    "    return two_side_pvalue(z)\n",
    "\n",
    "\n",
    "p_value = get_pvalue_bootstrap(df.y_pred, df.y_pred2, df.y_true)\n",
    "print('p Value:',  \"{:.5f}\".format(p_value))\n"
   ]
  },
  {
   "cell_type": "markdown",
   "id": "f8769686",
   "metadata": {},
   "source": [
    "# Delong test"
   ]
  },
  {
   "cell_type": "code",
   "execution_count": 13,
   "id": "50e96ed5",
   "metadata": {},
   "outputs": [
    {
     "name": "stdout",
     "output_type": "stream",
     "text": [
      "p Value: 0.00321\n"
     ]
    }
   ],
   "source": [
    "def get_pvalue_delong(y_pred, y_pred2, y_true):\n",
    "    return np.power(10, float(compare_auc_delong_xu.delong_roc_test(np.array(y_true), np.array(y_pred), np.array(y_pred2))))\n",
    "p_value = get_pvalue_delong(df.y_pred, df.y_pred2, df.y_true)\n",
    "print('p Value:',  \"{:.5f}\".format(p_value))"
   ]
  }
 ],
 "metadata": {
  "kernelspec": {
   "display_name": "Python 3 (ipykernel)",
   "language": "python",
   "name": "python3"
  },
  "language_info": {
   "codemirror_mode": {
    "name": "ipython",
    "version": 3
   },
   "file_extension": ".py",
   "mimetype": "text/x-python",
   "name": "python",
   "nbconvert_exporter": "python",
   "pygments_lexer": "ipython3",
   "version": "3.9.7"
  }
 },
 "nbformat": 4,
 "nbformat_minor": 5
}
